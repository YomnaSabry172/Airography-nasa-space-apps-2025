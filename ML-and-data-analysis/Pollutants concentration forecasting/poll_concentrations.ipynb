{
  "nbformat": 4,
  "nbformat_minor": 0,
  "metadata": {
    "colab": {
      "provenance": [],
      "gpuType": "T4"
    },
    "kernelspec": {
      "name": "python3",
      "display_name": "Python 3"
    },
    "language_info": {
      "name": "python"
    },
    "accelerator": "GPU"
  },
  "cells": [
    {
      "cell_type": "code",
      "source": [
        "import pandas as pd\n",
        "import numpy as np\n",
        "from sklearn.model_selection import train_test_split\n",
        "from sklearn.metrics import mean_squared_error, mean_absolute_error, r2_score, mean_absolute_percentage_error\n",
        "from sklearn.metrics import precision_score, recall_score, f1_score, accuracy_score, classification_report, confusion_matrix\n",
        "import xgboost as xgb\n",
        "import matplotlib.pyplot as plt\n",
        "import seaborn as sns\n",
        "from datetime import timedelta\n",
        "import warnings\n",
        "import joblib\n",
        "import json\n",
        "warnings.filterwarnings('ignore')\n"
      ],
      "metadata": {
        "id": "E62Tq5q7zcu9"
      },
      "execution_count": 1,
      "outputs": []
    },
    {
      "cell_type": "code",
      "source": [
        "from google.colab import drive\n",
        "drive.mount('/content/drive')"
      ],
      "metadata": {
        "colab": {
          "base_uri": "https://localhost:8080/"
        },
        "id": "h0xBtYAD5oYR",
        "outputId": "90dac373-5e34-4a05-cdfb-69e4798bbde3"
      },
      "execution_count": 3,
      "outputs": [
        {
          "output_type": "stream",
          "name": "stdout",
          "text": [
            "Mounted at /content/drive\n"
          ]
        }
      ]
    },
    {
      "cell_type": "code",
      "source": [
        "# Load and prepare the data (same preprocessing)\n",
        "path = \"/content/drive/MyDrive/final_satelite_data.csv\"\n",
        "df = pd.read_csv(path)\n",
        "\n",
        "path1 = \"/content/drive/MyDrive/Copy of openaq_predicted_2023_2025.csv\"\n",
        "df1 = pd.read_csv(path1)"
      ],
      "metadata": {
        "id": "gNBsLhDkzfrS"
      },
      "execution_count": 4,
      "outputs": []
    },
    {
      "cell_type": "code",
      "source": [
        "df['time'] = df1['time']\n",
        "df['time'] = pd.to_datetime(df['time'], errors='coerce')\n",
        "df = df.set_index('time', drop=True)\n",
        "df = df.sort_index(ascending=True)"
      ],
      "metadata": {
        "id": "5ia49E-Rzf31"
      },
      "execution_count": 5,
      "outputs": []
    },
    {
      "cell_type": "code",
      "source": [
        "# Get last 12 months of data\n",
        "df1 = df.last('12M')"
      ],
      "metadata": {
        "id": "eHbFrHYezgCk"
      },
      "execution_count": 6,
      "outputs": []
    },
    {
      "cell_type": "code",
      "source": [
        "# Sort by station and time\n",
        "df1 = df1.sort_values(by=['latitude', 'longitude', df1.index.name], ascending=True)"
      ],
      "metadata": {
        "id": "YLD4-FcEzunm"
      },
      "execution_count": 7,
      "outputs": []
    },
    {
      "cell_type": "code",
      "source": [
        "# Drop unnecessary columns\n",
        "drop_cols = [\"Unnamed: 0\", \"aqi_pm25\", \"AQI\", \"AQI_Category_Encoded\"]\n",
        "df_clean = df1.drop(columns=[c for c in drop_cols if c in df1.columns])"
      ],
      "metadata": {
        "id": "wVXdU4L2zzN7"
      },
      "execution_count": 8,
      "outputs": []
    },
    {
      "cell_type": "code",
      "source": [
        "# Feature engineering\n",
        "for pollutant in [\"pm25\", \"pm10\", \"no2\", \"so2\", \"co\", \"o3\"]:\n",
        "    df_clean[f\"{pollutant}_lag1\"] = df_clean[pollutant].shift(1)\n",
        "    df_clean[f\"{pollutant}_lag3\"] = df_clean[pollutant].shift(3)\n",
        "    df_clean[f\"{pollutant}_lag6\"] = df_clean[pollutant].shift(6)\n",
        "\n",
        "for pollutant in [\"pm25\", \"pm10\", \"no2\", \"so2\", \"co\", \"o3\"]:\n",
        "    df_clean[f\"{pollutant}_mean_24h\"] = (\n",
        "        df_clean[pollutant].rolling(window=24, min_periods=1).mean()\n",
        "    )\n",
        "\n",
        "df_clean[\"pm25_pm10_ratio\"] = df_clean[\"pm25\"] / (df_clean[\"pm10\"] + 1e-6)\n",
        "df_clean[\"o3_no2_ratio\"] = df_clean[\"o3\"] / (df_clean[\"no2\"] + 1e-6)\n"
      ],
      "metadata": {
        "id": "moQbsy290DFM"
      },
      "execution_count": 9,
      "outputs": []
    },
    {
      "cell_type": "code",
      "source": [
        "# Drop rows with NaN values created by lag features\n",
        "df_clean = df_clean.dropna()\n",
        "print(\"Data shape after preprocessing:\", df_clean.shape)\n"
      ],
      "metadata": {
        "colab": {
          "base_uri": "https://localhost:8080/"
        },
        "id": "ILp0p9oL0G-S",
        "outputId": "b8de8e28-8771-4839-ca6b-c8d82826cecb"
      },
      "execution_count": 10,
      "outputs": [
        {
          "output_type": "stream",
          "name": "stdout",
          "text": [
            "Data shape after preprocessing: (1372394, 61)\n"
          ]
        }
      ]
    },
    {
      "cell_type": "code",
      "source": [
        "# Define target pollutants for forecasting\n",
        "target_pollutants = ['no2', 'so2', 'o3', 'co']\n",
        "feature_columns = [col for col in df_clean.columns if col not in target_pollutants + ['pm25', 'pm10']]\n",
        "\n",
        "print(f\"Target pollutants: {target_pollutants}\")\n",
        "print(f\"Number of features: {len(feature_columns)}\")\n"
      ],
      "metadata": {
        "colab": {
          "base_uri": "https://localhost:8080/"
        },
        "id": "iPUPaCiG0Jax",
        "outputId": "86b8cba8-fcf9-4fd9-f00a-f5e47d8d5747"
      },
      "execution_count": 11,
      "outputs": [
        {
          "output_type": "stream",
          "name": "stdout",
          "text": [
            "Target pollutants: ['no2', 'so2', 'o3', 'co']\n",
            "Number of features: 55\n"
          ]
        }
      ]
    },
    {
      "cell_type": "code",
      "source": [
        "\n",
        "# evaluation function with classification metrics\n",
        "def evaluate_model(y_true, y_pred, pollutant_name):\n",
        "    \"\"\"Comprehensive model evaluation with regression and classification metrics\"\"\"\n",
        "\n",
        "    mse = mean_squared_error(y_true, y_pred)\n",
        "    mae = mean_absolute_error(y_true, y_pred)\n",
        "    rmse = np.sqrt(mse)\n",
        "    r2 = r2_score(y_true, y_pred)\n",
        "\n",
        "    try:\n",
        "        mape = mean_absolute_percentage_error(y_true, y_pred) * 100\n",
        "    except:\n",
        "        mape = np.mean(np.abs((y_true - y_pred) / (np.abs(y_true) + 1e-8))) * 100\n",
        "\n",
        "    explained_variance = 1 - (np.var(y_true - y_pred) / np.var(y_true))\n",
        "    mean_bias = np.mean(y_pred - y_true)\n",
        "    max_error = np.max(np.abs(y_true - y_pred))\n",
        "    median_ae = np.median(np.abs(y_true - y_pred))\n",
        "\n",
        "    # Classification metrics based on pollution thresholds\n",
        "    # Convert to binary classification: High vs Low pollution\n",
        "    threshold = np.median(y_true)  # Median as threshold\n",
        "    y_true_binary = (y_true > threshold).astype(int)\n",
        "    y_pred_binary = (y_pred > threshold).astype(int)\n",
        "\n",
        "    # Classification metrics\n",
        "    accuracy = accuracy_score(y_true_binary, y_pred_binary)\n",
        "    precision = precision_score(y_true_binary, y_pred_binary, average='weighted', zero_division=0)\n",
        "    recall = recall_score(y_true_binary, y_pred_binary, average='weighted', zero_division=0)\n",
        "    f1 = f1_score(y_true_binary, y_pred_binary, average='weighted', zero_division=0)\n",
        "\n",
        "    return {\n",
        "        # Regression metrics\n",
        "        'MSE': mse, 'MAE': mae, 'RMSE': rmse, 'R²': r2, 'MAPE (%)': mape,\n",
        "        'Explained Variance': explained_variance, 'Mean Bias': mean_bias,\n",
        "        'Max Error': max_error, 'Median AE': median_ae,\n",
        "\n",
        "        # Classification metrics\n",
        "        'Accuracy': accuracy, 'Precision': precision, 'Recall': recall, 'F1-Score': f1,\n",
        "        'Threshold': threshold\n",
        "    }"
      ],
      "metadata": {
        "id": "doEE9XV90xkW"
      },
      "execution_count": 12,
      "outputs": []
    },
    {
      "cell_type": "code",
      "source": [
        "models = {}\n",
        "performance_metrics = {}\n",
        "predictions = {}\n",
        "classification_reports = {}\n",
        "\n",
        "for pollutant in target_pollutants:\n",
        "    print(f\"\\nTRAINING MODEL FOR {pollutant.upper()}\")\n",
        "\n",
        "    X = df_clean[feature_columns]\n",
        "    y = df_clean[pollutant]\n",
        "\n",
        "    split_date = df_clean.index.max() - timedelta(days=30)\n",
        "    X_train = X[X.index <= split_date]\n",
        "    X_test = X[X.index > split_date]\n",
        "    y_train = y[y.index <= split_date]\n",
        "    y_test = y[y.index > split_date]\n",
        "\n",
        "    model = xgb.XGBRegressor(\n",
        "        n_estimators=200, max_depth=8, learning_rate=0.05, random_state=42,\n",
        "        subsample=0.8, colsample_bytree=0.8, reg_alpha=0.1, reg_lambda=0.1\n",
        "    )\n",
        "    model.fit(X_train, y_train, eval_set=[(X_test, y_test)], verbose=False)\n",
        "\n",
        "    y_pred = model.predict(X_test)\n",
        "    metrics = evaluate_model(y_test, y_pred, pollutant)\n",
        "\n",
        "    models[pollutant] = model\n",
        "    performance_metrics[pollutant] = metrics\n",
        "    predictions[pollutant] = {'y_test': y_test, 'y_pred': y_pred, 'X_test': X_test}\n",
        "\n",
        "    y_true_binary = (y_test > metrics['Threshold']).astype(int)\n",
        "    y_pred_binary = (y_pred > metrics['Threshold']).astype(int)\n",
        "    classification_reports[pollutant] = classification_report(y_true_binary, y_pred_binary, zero_division=0)\n",
        "\n",
        "    print(f\"{pollutant.upper()} R²: {metrics['R²']:.4f}, F1: {metrics['F1-Score']:.4f}\")\n"
      ],
      "metadata": {
        "colab": {
          "base_uri": "https://localhost:8080/"
        },
        "id": "O_Xdy5Az09rx",
        "outputId": "4d7da57c-0813-4c63-aed4-407c5d45e694"
      },
      "execution_count": 53,
      "outputs": [
        {
          "output_type": "stream",
          "name": "stdout",
          "text": [
            "\n",
            "TRAINING MODEL FOR NO2\n",
            "NO2 R²: 0.9997, F1: 0.9985\n",
            "\n",
            "TRAINING MODEL FOR SO2\n",
            "SO2 R²: 0.9984, F1: 0.6923\n",
            "\n",
            "TRAINING MODEL FOR O3\n",
            "O3 R²: 0.9998, F1: 0.9976\n",
            "\n",
            "TRAINING MODEL FOR CO\n",
            "CO R²: 0.9989, F1: 0.9919\n"
          ]
        }
      ]
    },
    {
      "cell_type": "code",
      "source": [
        "def enhanced_7_day_forecast(models, df_clean, feature_columns, target_pollutants, station_coords=None):\n",
        "    \"\"\"Enhanced forecasting with temporal feature updating\"\"\"\n",
        "\n",
        "    print(\"ENHANCED 7-DAY FORECASTING\")\n",
        "\n",
        "    # Select recent station data\n",
        "    if station_coords:\n",
        "        lat, lon = station_coords\n",
        "        recent_data = df_clean[(df_clean['latitude'] == lat) & (df_clean['longitude'] == lon)].iloc[-168:]\n",
        "        print(f\"Forecasting for Lat {lat:.4f}, Lon {lon:.4f}\")\n",
        "    else:\n",
        "        station_counts = df_clean.groupby(['latitude', 'longitude']).size()\n",
        "        rep_lat, rep_lon = station_counts.idxmax()\n",
        "        recent_data = df_clean[(df_clean['latitude'] == rep_lat) & (df_clean['longitude'] == rep_lon)].iloc[-168:]\n",
        "        print(f\"Forecasting for representative station: Lat {rep_lat:.4f}, Lon {rep_lon:.4f}\")\n",
        "\n",
        "    if len(recent_data) == 0:\n",
        "        print(\"No data available\")\n",
        "        return None\n",
        "\n",
        "    forecasts, forecast_dates = {}, []\n",
        "    last_date = recent_data.index.max()\n",
        "    future_dates = [last_date + timedelta(days=i) for i in range(1, 8)]\n",
        "    forecast_data = recent_data.copy()\n",
        "\n",
        "    for day_idx, forecast_date in enumerate(future_dates):\n",
        "        print(f\"\\nForecasting Day {day_idx+1} ({forecast_date.date()}):\")\n",
        "        current_features = forecast_data[feature_columns].iloc[-1:].copy()\n",
        "\n",
        "        day_forecast = {}\n",
        "        for pollutant in target_pollutants:\n",
        "            prediction = models[pollutant].predict(current_features)[0]\n",
        "            day_forecast[pollutant] = prediction\n",
        "            print(f\"  {pollutant.upper()}: {prediction:.6f}\")\n",
        "\n",
        "        for pollutant, value in day_forecast.items():\n",
        "            forecasts.setdefault(pollutant, []).append(value)\n",
        "        forecast_dates.append(forecast_date)\n",
        "\n",
        "        new_row = forecast_data.iloc[-1:].copy()\n",
        "        new_row.index = [forecast_date]\n",
        "        for pollutant in target_pollutants:\n",
        "            new_row[pollutant] = day_forecast[pollutant]\n",
        "\n",
        "        for feature in ['temperature_celsius', 'wind_speed_10m', 'relative_humidity_2m']:\n",
        "            if feature in new_row.columns:\n",
        "                variation = np.random.normal(0, abs(new_row[feature].iloc[0]) * 0.05)\n",
        "                new_row[feature] = new_row[feature].iloc[0] + variation\n",
        "\n",
        "        new_row['hour_sin'] = np.sin(2 * np.pi * forecast_date.hour / 24)\n",
        "        new_row['hour_cos'] = np.cos(2 * np.pi * forecast_date.hour / 24)\n",
        "        new_row['dow_sin'] = np.sin(2 * np.pi * forecast_date.dayofweek / 7)\n",
        "        new_row['dow_cos'] = np.cos(2 * np.pi * forecast_date.dayofweek / 7)\n",
        "        new_row['month_sin'] = np.sin(2 * np.pi * forecast_date.month / 12)\n",
        "        new_row['month_cos'] = np.cos(2 * np.pi * forecast_date.month / 12)\n",
        "\n",
        "        for pollutant in target_pollutants:\n",
        "            lag_col = f\"{pollutant}_lag1\"\n",
        "            if lag_col in new_row.columns:\n",
        "                new_row[lag_col] = day_forecast[pollutant]\n",
        "\n",
        "        forecast_data = pd.concat([forecast_data, new_row])\n",
        "\n",
        "    forecast_df = pd.DataFrame(index=forecast_dates)\n",
        "    for pollutant in target_pollutants:\n",
        "        forecast_df[pollutant] = forecasts[pollutant]\n",
        "        forecast_df[f\"{pollutant}_forecast\"] = forecasts[pollutant]\n",
        "\n",
        "    return forecast_df\n"
      ],
      "metadata": {
        "id": "Cpq1iuMn0936"
      },
      "execution_count": 55,
      "outputs": []
    },
    {
      "cell_type": "code",
      "source": [
        "enhanced_forecasts = enhanced_7_day_forecast(models, df_clean, feature_columns, target_pollutants)\n",
        "\n",
        "if enhanced_forecasts is not None:\n",
        "    print(\"\\nFINAL 7-DAY FORECAST RESULTS\")\n",
        "    print(enhanced_forecasts.round(4))\n",
        "\n",
        "    print(\"\\nFORECAST TREND ANALYSIS\")\n",
        "    for pollutant in target_pollutants:\n",
        "        values = enhanced_forecasts[pollutant]\n",
        "        trend = \"Increasing\" if values.iloc[-1] > values.iloc[0] else \"Decreasing\" if values.iloc[-1] < values.iloc[0] else \"Stable\"\n",
        "        volatility = values.std()\n",
        "        change_pct = ((values.iloc[-1] - values.iloc[0]) / (abs(values.iloc[0]) + 1e-8)) * 100\n",
        "        print(f\"{pollutant.upper()} → Trend: {trend}, Volatility: {volatility:.4f}, Change: {change_pct:.2f}%\")\n"
      ],
      "metadata": {
        "colab": {
          "base_uri": "https://localhost:8080/"
        },
        "id": "5c1rd11Y1Lbr",
        "outputId": "42bb729b-6200-4bf5-ae44-46d2c032682c"
      },
      "execution_count": 56,
      "outputs": [
        {
          "output_type": "stream",
          "name": "stdout",
          "text": [
            "ENHANCED 7-DAY FORECASTING\n",
            "Forecasting for representative station: Lat 0.2611, Lon -1.3972\n",
            "\n",
            "Forecasting Day 1 (2025-10-01):\n",
            "  NO2: -0.166857\n",
            "  SO2: 1.250528\n",
            "  O3: -0.846225\n",
            "  CO: 5.369698\n",
            "\n",
            "Forecasting Day 2 (2025-10-02):\n",
            "  NO2: -0.153457\n",
            "  SO2: 1.251402\n",
            "  O3: -0.843847\n",
            "  CO: 3.808802\n",
            "\n",
            "Forecasting Day 3 (2025-10-03):\n",
            "  NO2: -0.153482\n",
            "  SO2: 1.247615\n",
            "  O3: -0.843847\n",
            "  CO: 3.803235\n",
            "\n",
            "Forecasting Day 4 (2025-10-04):\n",
            "  NO2: -0.152169\n",
            "  SO2: 1.219078\n",
            "  O3: -0.844302\n",
            "  CO: 3.996922\n",
            "\n",
            "Forecasting Day 5 (2025-10-05):\n",
            "  NO2: -0.172356\n",
            "  SO2: 1.213567\n",
            "  O3: -0.844255\n",
            "  CO: 4.005302\n",
            "\n",
            "Forecasting Day 6 (2025-10-06):\n",
            "  NO2: -0.172356\n",
            "  SO2: 1.213567\n",
            "  O3: -0.844255\n",
            "  CO: 4.005302\n",
            "\n",
            "Forecasting Day 7 (2025-10-07):\n",
            "  NO2: -0.151498\n",
            "  SO2: 1.222339\n",
            "  O3: -0.844162\n",
            "  CO: 3.979341\n",
            "\n",
            "FINAL 7-DAY FORECAST RESULTS\n",
            "                              no2  no2_forecast     so2  so2_forecast      o3  \\\n",
            "2025-10-01 00:00:00+00:00 -0.1669       -0.1669  1.2505        1.2505 -0.8462   \n",
            "2025-10-02 00:00:00+00:00 -0.1535       -0.1535  1.2514        1.2514 -0.8438   \n",
            "2025-10-03 00:00:00+00:00 -0.1535       -0.1535  1.2476        1.2476 -0.8438   \n",
            "2025-10-04 00:00:00+00:00 -0.1522       -0.1522  1.2191        1.2191 -0.8443   \n",
            "2025-10-05 00:00:00+00:00 -0.1724       -0.1724  1.2136        1.2136 -0.8443   \n",
            "2025-10-06 00:00:00+00:00 -0.1724       -0.1724  1.2136        1.2136 -0.8443   \n",
            "2025-10-07 00:00:00+00:00 -0.1515       -0.1515  1.2223        1.2223 -0.8442   \n",
            "\n",
            "                           o3_forecast      co  co_forecast  \n",
            "2025-10-01 00:00:00+00:00      -0.8462  5.3697       5.3697  \n",
            "2025-10-02 00:00:00+00:00      -0.8438  3.8088       3.8088  \n",
            "2025-10-03 00:00:00+00:00      -0.8438  3.8032       3.8032  \n",
            "2025-10-04 00:00:00+00:00      -0.8443  3.9969       3.9969  \n",
            "2025-10-05 00:00:00+00:00      -0.8443  4.0053       4.0053  \n",
            "2025-10-06 00:00:00+00:00      -0.8443  4.0053       4.0053  \n",
            "2025-10-07 00:00:00+00:00      -0.8442  3.9793       3.9793  \n",
            "\n",
            "FORECAST TREND ANALYSIS\n",
            "NO2 → Trend: Increasing, Volatility: 0.0098, Change: 9.21%\n",
            "SO2 → Trend: Decreasing, Volatility: 0.0178, Change: -2.25%\n",
            "O3 → Trend: Increasing, Volatility: 0.0008, Change: 0.24%\n",
            "CO → Trend: Decreasing, Volatility: 0.5504, Change: -25.89%\n"
          ]
        }
      ]
    },
    {
      "cell_type": "code",
      "source": [
        "print(\"\\nSAVING MODELS AND METADATA\")\n",
        "\n",
        "for pollutant, model in models.items():\n",
        "    model_filename = f'/content/drive/MyDrive/{pollutant}_xgboost_model.pkl'\n",
        "    joblib.dump(model, model_filename)\n",
        "    print(f\"Saved {pollutant.upper()} model\")\n",
        "\n",
        "model_metadata = {\n",
        "    'feature_columns': feature_columns,\n",
        "    'target_pollutants': target_pollutants,\n",
        "    'training_date': str(pd.Timestamp.now()),\n",
        "    'data_shape': df_clean.shape,\n",
        "    'performance_metrics': performance_metrics\n",
        "}\n",
        "\n",
        "with open('/content/drive/MyDrive/model_metadata.json', 'w') as f:\n",
        "    json.dump(model_metadata, f, indent=4)\n",
        "\n",
        "print(\" Saved model metadata\")\n"
      ],
      "metadata": {
        "colab": {
          "base_uri": "https://localhost:8080/"
        },
        "id": "PcQJDXxn3LJa",
        "outputId": "b46ec7da-ed1e-44b8-8308-11bf3a9b227d"
      },
      "execution_count": 57,
      "outputs": [
        {
          "output_type": "stream",
          "name": "stdout",
          "text": [
            "\n",
            "SAVING MODELS AND METADATA\n",
            "Saved NO2 model\n",
            "Saved SO2 model\n",
            "Saved O3 model\n",
            "Saved CO model\n",
            " Saved model metadata\n"
          ]
        }
      ]
    },
    {
      "cell_type": "code",
      "source": [
        "def predict_pollution(new_data, model_paths, feature_columns, target_pollutants):\n",
        "    \"\"\"Make predictions using saved models\"\"\"\n",
        "    loaded_models = {}\n",
        "    for pollutant in target_pollutants:\n",
        "        model_path = f'/content/drive/MyDrive/{pollutant}_xgboost_model.pkl'\n",
        "        loaded_models[pollutant] = joblib.load(model_path)\n",
        "\n",
        "    missing_features = set(feature_columns) - set(new_data.columns)\n",
        "    for feature in missing_features:\n",
        "        new_data[feature] = 0\n",
        "    new_data = new_data[feature_columns]\n",
        "\n",
        "    predictions = {}\n",
        "    for pollutant, model in loaded_models.items():\n",
        "        pred = model.predict(new_data)\n",
        "        predictions[pollutant] = pred\n",
        "        print(f\"{pollutant.upper()} prediction: {pred[0]:.6f}\")\n",
        "    return predictions\n",
        "\n",
        "# Example usage\n",
        "sample_data = df_clean[feature_columns].iloc[-1:].copy()\n",
        "example_predictions = predict_pollution(sample_data, models, feature_columns, target_pollutants)\n"
      ],
      "metadata": {
        "colab": {
          "base_uri": "https://localhost:8080/"
        },
        "id": "5yzE4-w83bXr",
        "outputId": "ee373f0c-f0ee-40a1-c3e7-bdf819ac257a"
      },
      "execution_count": 58,
      "outputs": [
        {
          "output_type": "stream",
          "name": "stdout",
          "text": [
            "NO2 prediction: 0.998935\n",
            "SO2 prediction: 1.094590\n",
            "O3 prediction: -0.240004\n",
            "CO prediction: -0.439184\n"
          ]
        }
      ]
    },
    {
      "cell_type": "code",
      "source": [
        "def plot_confusion_matrices(predictions, performance_metrics, target_pollutants):\n",
        "    fig, axes = plt.subplots(2, 2, figsize=(15, 12))\n",
        "    axes = axes.flatten()\n",
        "\n",
        "    for i, pollutant in enumerate(target_pollutants):\n",
        "        if i < len(axes):\n",
        "            ax = axes[i]\n",
        "            y_test = predictions[pollutant]['y_test']\n",
        "            y_pred = predictions[pollutant]['y_pred']\n",
        "\n",
        "            threshold = performance_metrics[pollutant]['Threshold']\n",
        "            y_true_binary = (y_test > threshold).astype(int)\n",
        "            y_pred_binary = (y_pred > threshold).astype(int)\n",
        "\n",
        "            cm = confusion_matrix(y_true_binary, y_pred_binary)\n",
        "            sns.heatmap(cm, annot=True, fmt='d', cmap='Blues', ax=ax,\n",
        "                        xticklabels=['Low', 'High'], yticklabels=['Low', 'High'])\n",
        "            ax.set_xlabel('Predicted')\n",
        "            ax.set_ylabel('Actual')\n",
        "            ax.set_title(f\"{pollutant.upper()} Confusion Matrix (F1: {performance_metrics[pollutant]['F1-Score']:.3f})\")\n",
        "\n",
        "    plt.tight_layout()\n",
        "    plt.show()\n",
        "\n",
        "plot_confusion_matrices(predictions, performance_metrics, target_pollutants)\n"
      ],
      "metadata": {
        "colab": {
          "base_uri": "https://localhost:8080/",
          "height": 1000
        },
        "id": "qaECdPvD3kj8",
        "outputId": "e1d03fbc-c8ec-4d70-e597-ca1b26a851dd"
      },
      "execution_count": 59,
      "outputs": [
        {
          "output_type": "display_data",
          "data": {
            "text/plain": [
              "<Figure size 1500x1200 with 8 Axes>"
            ],
            "image/png": "[encoded data removed]"
          },
          "metadata": {}
        }
      ]
    },
    {
      "cell_type": "code",
      "source": [
        "def save_comprehensive_results(performance_metrics, enhanced_forecasts, predictions, classification_reports):\n",
        "    pd.DataFrame(performance_metrics).T.to_csv('/content/drive/MyDrive/pollutant_model_performance_comprehensive.csv')\n",
        "\n",
        "    with open('/content/drive/MyDrive/classification_reports.txt', 'w') as f:\n",
        "        for pollutant, report in classification_reports.items():\n",
        "            f.write(f\"{pollutant.upper()} Classification Report:\\n{report}\\n{'='*50}\\n\")\n",
        "\n",
        "    if enhanced_forecasts is not None:\n",
        "        enhanced_forecasts.to_csv('/content/drive/MyDrive/pollutant_forecasts_7days_comprehensive.csv')\n",
        "\n",
        "    for pollutant in target_pollutants:\n",
        "        pred_df = pd.DataFrame({\n",
        "            'actual': predictions[pollutant]['y_test'],\n",
        "            'predicted': predictions[pollutant]['y_pred'],\n",
        "            'error': predictions[pollutant]['y_test'] - predictions[pollutant]['y_pred']\n",
        "        })\n",
        "        pred_df.to_csv(f'/content/drive/MyDrive/{pollutant}_detailed_predictions.csv', index=False)\n",
        "\n",
        "    summary = {\n",
        "        'average_r2': np.mean([m['R²'] for m in performance_metrics.values()]),\n",
        "        'average_mape': np.mean([m['MAPE (%)'] for m in performance_metrics.values()]),\n",
        "        'average_f1': np.mean([m['F1-Score'] for m in performance_metrics.values()]),\n",
        "        'average_accuracy': np.mean([m['Accuracy'] for m in performance_metrics.values()]),\n",
        "        'best_model': max(performance_metrics, key=lambda x: performance_metrics[x]['R²']),\n",
        "        'total_stations': len(df_clean[['latitude', 'longitude']].drop_duplicates()),\n",
        "        'forecast_period': '7 days'\n",
        "    }\n",
        "    pd.DataFrame([summary]).to_csv('/content/drive/MyDrive/forecasting_summary_comprehensive.csv', index=False)\n",
        "    print(\" All results saved\")\n",
        "\n",
        "save_comprehensive_results(performance_metrics, enhanced_forecasts, predictions, classification_reports)\n"
      ],
      "metadata": {
        "colab": {
          "base_uri": "https://localhost:8080/"
        },
        "id": "Sb-V3eqQ3mNZ",
        "outputId": "acaaee11-c116-43c4-f56f-0f5aacd772ce"
      },
      "execution_count": 60,
      "outputs": [
        {
          "output_type": "stream",
          "name": "stdout",
          "text": [
            " All results saved\n"
          ]
        }
      ]
    },
    {
      "cell_type": "code",
      "source": [
        "print(\"\\nFINAL PERFORMANCE SUMMARY\")\n",
        "\n",
        "avg_r2 = np.mean([m['R²'] for m in performance_metrics.values()])\n",
        "avg_mape = np.mean([m['MAPE (%)'] for m in performance_metrics.values()])\n",
        "avg_f1 = np.mean([m['F1-Score'] for m in performance_metrics.values()])\n",
        "avg_accuracy = np.mean([m['Accuracy'] for m in performance_metrics.values()])\n",
        "\n",
        "print(f\"Overall Average R²: {avg_r2:.4f}\")\n",
        "print(f\"Overall Average MAPE: {avg_mape:.2f}%\")\n",
        "print(f\"Overall Average F1-Score: {avg_f1:.4f}\")\n",
        "print(f\"Overall Average Accuracy: {avg_accuracy:.4f}\")\n",
        "\n",
        "summary_data = []\n",
        "for pollutant in target_pollutants:\n",
        "    metrics = performance_metrics[pollutant]\n",
        "    summary_data.append({\n",
        "        'Pollutant': pollutant.upper(),\n",
        "        'R²': f\"{metrics['R²']:.4f}\",\n",
        "        'MAPE': f\"{metrics['MAPE (%)']:.2f}%\",\n",
        "        'F1-Score': f\"{metrics['F1-Score']:.4f}\",\n",
        "        'Accuracy': f\"{metrics['Accuracy']:.4f}\",\n",
        "        'Precision': f\"{metrics['Precision']:.4f}\",\n",
        "        'Recall': f\"{metrics['Recall']:.4f}\"\n",
        "    })\n",
        "\n",
        "print(pd.DataFrame(summary_data).to_string(index=False))\n",
        "print(\"\\nPipeline Complete\")\n"
      ],
      "metadata": {
        "colab": {
          "base_uri": "https://localhost:8080/"
        },
        "id": "ssL-bxkj3mXU",
        "outputId": "e2ad0c13-3321-46c8-8b83-ab0eff6b8caa"
      },
      "execution_count": 61,
      "outputs": [
        {
          "output_type": "stream",
          "name": "stdout",
          "text": [
            "\n",
            "FINAL PERFORMANCE SUMMARY\n",
            "Overall Average R²: 0.9992\n",
            "Overall Average MAPE: 6.21%\n",
            "Overall Average F1-Score: 0.9201\n",
            "Overall Average Accuracy: 0.9242\n",
            "Pollutant     R²   MAPE F1-Score Accuracy Precision Recall\n",
            "      NO2 0.9997  4.84%   0.9985   0.9985    0.9985 0.9985\n",
            "      SO2 0.9984  1.18%   0.6923   0.7088    0.8232 0.7088\n",
            "       O3 0.9998  3.83%   0.9976   0.9976    0.9976 0.9976\n",
            "       CO 0.9989 15.01%   0.9919   0.9919    0.9919 0.9919\n",
            "\n",
            "Pipeline Complete\n"
          ]
        }
      ]
    },
    {
      "cell_type": "code",
      "source": [],
      "metadata": {
        "id": "1w89iA0uDAe6"
      },
      "execution_count": null,
      "outputs": []
    }
  ]
}